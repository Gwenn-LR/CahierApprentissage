{
 "cells": [
  {
   "cell_type": "markdown",
   "id": "7a015e9f",
   "metadata": {},
   "source": [
    "# <center> Cahier d'apprentissage </center>"
   ]
  },
  {
   "cell_type": "markdown",
   "id": "b1574df4",
   "metadata": {},
   "source": [
    "# Introduction"
   ]
  },
  {
   "cell_type": "markdown",
   "id": "7bc9d22d",
   "metadata": {},
   "source": [
    "Veilles, ateliers, projets... les formats d'apprentissages sont nombreux durant la formation. Pour ne pas être perdu, et être capable d'auto-évaluer sa progression, l'apprenant doit pouvoir centraliser tous ses apprentissages dans un cahier.\n",
    "\n",
    "Le projet proposé est de préparer ce cahier en remplissant et archivant des Notebook, outil très utilisé par les développeurs en Python."
   ]
  },
  {
   "cell_type": "markdown",
   "id": "84bf431a",
   "metadata": {},
   "source": [
    "# Sommaire"
   ]
  },
  {
   "cell_type": "markdown",
   "id": "615cf25d",
   "metadata": {},
   "source": [
    "1. Veilles\n",
    "    * [Applications de l'IA](data/veilles/2021-11-30_-_Presentation_Intelligence_artificielle_dans_le_droit.odp)\n",
    "    * [Langages informatiques](data/veilles/2021-12-02_-_Javascript.pptx)\n",
    "    * [BDD relationnelle](data/veilles/2021-12-03_-_SGBD_MariaDB.pptx)\n",
    "    * [Maths](data/veilles/2021-12-07_-_Maths_Algebre_Lineaire.pptx)\n",
    "    * [Bibliothèques](data/veilles/2021-12-08_-_Bibliotheque_Scikit_Learn.ipynb)\n",
    "    * [Interfaces graphiques](data/veilles/2021-12-15_-_Pygame.pptx)\n",
    "    * [Web](data/veilles/2021-12-20_-_Bootstrap.pptx)\n",
    "    * [Merise](data/veilles/2022-01-06_-_MLD.pdf)\n",
    "    * [Machine Learning](data/veilles/2022-01-12_-_Machine_Learning.pdf)\n",
    "    * [Programmation Orientée Object](data/notebook/POO.ipynb)\n",
    "    * [Mail](data/notebook/Smtplib.ipynb)\n",
    "\n",
    "\n",
    "2. Environnement\n",
    "    * Anaconda\n",
    "    * VS Code\n",
    "    * Git\n",
    "    \n",
    "    \n",
    "3. Python\n",
    "    * [Classes](data/notebook/Classes.ipynb)\n",
    "\n",
    "\n",
    "4. Gestion de projet\n",
    "    * Merise\n",
    "\n",
    "\n",
    "5. BDD\n",
    "    * phpMyAdmin\n",
    "    * SQL\n",
    "\n",
    "\n",
    "6. Web\n",
    "    * HTML\n",
    "    * Flask\n",
    "    \n",
    "\n",
    "7. Machine Learning\n",
    "    * [Scikit-Learn](data/notebook/Scikit-Learn.ipynb)\n",
    "\n"
   ]
  }
 ],
 "metadata": {
  "kernelspec": {
   "display_name": "Python 3 (ipykernel)",
   "language": "python",
   "name": "python3"
  },
  "language_info": {
   "codemirror_mode": {
    "name": "ipython",
    "version": 3
   },
   "file_extension": ".py",
   "mimetype": "text/x-python",
   "name": "python",
   "nbconvert_exporter": "python",
   "pygments_lexer": "ipython3",
   "version": "3.9.7"
  }
 },
 "nbformat": 4,
 "nbformat_minor": 5
}
