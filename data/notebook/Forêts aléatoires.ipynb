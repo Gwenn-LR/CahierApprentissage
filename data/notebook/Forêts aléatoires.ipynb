{
 "cells": [
  {
   "cell_type": "markdown",
   "id": "ad864b43",
   "metadata": {},
   "source": [
    "# Sommaire"
   ]
  },
  {
   "cell_type": "markdown",
   "id": "603127cf",
   "metadata": {},
   "source": [
    "1. [Ensemble Learning (Apprentissage ensembliste)](#Ensemble-Learning-(Apprentissage-ensembliste))\n",
    "2. [Forêts aléatoires](#Forêts-aléatoires)\n",
    "3. [Bagging](#Bagging)\n",
    "4. [Exemples pratiques](#Exemples-pratiques)\n",
    "5. [Sources](#Sources)"
   ]
  },
  {
   "cell_type": "markdown",
   "id": "f2c35218",
   "metadata": {},
   "source": [
    "# Ensemble Learning (Apprentissage ensembliste) "
   ]
  },
  {
   "cell_type": "markdown",
   "id": "fce9e220",
   "metadata": {},
   "source": [
    "En machine learning, l'ensemble learning ou apprentissage ensembliste est une méthode consistant à utiliser plusieurs algorithmes d'apprentissage afin d'obtenir de meilleures prédictions quant à leur précision.[$^1$](.source1)\n",
    "\n",
    "\n",
    "Il est possible d'utiliser un seul type d'algorithme pour produire un résultat homogène ou bien de combiner différents algorithmes afin d'obtenir un résultat inverse.\n",
    "\n",
    "\n",
    "Ainsi, cette méthode ensembliste permet d'améliorer les performances des modèles apprenants dits \"faibles\" en les associant\n",
    "\n",
    "\n",
    "On peut différencier deux grandes méthodes ensemblistes [$^2$](.source2): \n",
    "   - la séquentielle, où les modèles sont entraînés à la suite tout en leur permettant d'apprendre à chaque étape en modifiant les poids associés aux caractéristiques, avant de synthétiser les résultats à la fin du processus.\n",
    "   - la parallèle, où les modèles sont entraînés en simultané afin d'exploiter les observations issues des différents modèles au moment de leur combinaison. "
   ]
  },
  {
   "cell_type": "markdown",
   "id": "720c4320",
   "metadata": {},
   "source": [
    "# Forêts aléatoires"
   ]
  },
  {
   "cell_type": "markdown",
   "id": "f3f1f4d7",
   "metadata": {},
   "source": [
    "## Contexte"
   ]
  },
  {
   "cell_type": "markdown",
   "id": "d8a73b2a",
   "metadata": {},
   "source": [
    "## Description"
   ]
  },
  {
   "cell_type": "markdown",
   "id": "8ee0a510",
   "metadata": {},
   "source": [
    "## "
   ]
  },
  {
   "cell_type": "markdown",
   "id": "cd78a569",
   "metadata": {},
   "source": [
    "# Bagging"
   ]
  },
  {
   "cell_type": "markdown",
   "id": "a90639c1",
   "metadata": {},
   "source": [
    "## Contexte"
   ]
  },
  {
   "cell_type": "markdown",
   "id": "22de383e",
   "metadata": {},
   "source": [
    "## Description"
   ]
  },
  {
   "cell_type": "markdown",
   "id": "e46b2031",
   "metadata": {},
   "source": [
    "## "
   ]
  },
  {
   "cell_type": "markdown",
   "id": "28820bb7",
   "metadata": {},
   "source": [
    "# Exemples pratiques"
   ]
  },
  {
   "cell_type": "markdown",
   "id": "cf7fa832",
   "metadata": {},
   "source": [
    "## "
   ]
  },
  {
   "cell_type": "markdown",
   "id": "4ae36ab4",
   "metadata": {},
   "source": [
    "# Sources"
   ]
  },
  {
   "cell_type": "markdown",
   "id": "b351ec2a",
   "metadata": {},
   "source": [
    "$^1$ <a class=\"source1\" href=https://en.wikipedia.org/wiki/Ensemble_learning>Ensemble Learning, Wikipédia</a>\n",
    "\n",
    "$^2$ <a class=\"source2\" href=https://www.journaldunet.fr/web-tech/guide-de-l-intelligence-artificielle/1501883-methode-ensembliste-definition-fonctionnement-et-algorithmes/>Ensemble learning : définition, fonctionnement et algorithmes, Le Journal du Net</a>\n",
    "\n"
   ]
  }
 ],
 "metadata": {
  "kernelspec": {
   "display_name": "Python 3 (ipykernel)",
   "language": "python",
   "name": "python3"
  },
  "language_info": {
   "codemirror_mode": {
    "name": "ipython",
    "version": 3
   },
   "file_extension": ".py",
   "mimetype": "text/x-python",
   "name": "python",
   "nbconvert_exporter": "python",
   "pygments_lexer": "ipython3",
   "version": "3.9.7"
  }
 },
 "nbformat": 4,
 "nbformat_minor": 5
}
