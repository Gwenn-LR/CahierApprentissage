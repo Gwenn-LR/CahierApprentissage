{
 "cells": [
  {
   "cell_type": "markdown",
   "id": "fabee726",
   "metadata": {},
   "source": [
    "# <center>Scikit-Learn</center>"
   ]
  },
  {
   "cell_type": "markdown",
   "id": "a78c0a36",
   "metadata": {},
   "source": [
    "# Introduction"
   ]
  },
  {
   "cell_type": "markdown",
   "id": "9d4f3844",
   "metadata": {},
   "source": [
    "# Sommaire"
   ]
  },
  {
   "cell_type": "markdown",
   "id": "27a84892",
   "metadata": {},
   "source": [
    "1. [Bibliothèque](#Bibliothèque)\n",
    "2. [Structures de données](#Structure-de-données)\n",
    "3. [Validation des données](#Validation-des-données)\n",
    "4. [Prétraîtement](#Prétraîtement)\n",
    "    1. [Encodage](#Encodage)\n",
    "    2. [Mise à l'échelle](#Mise-à-l'échelle)\n",
    "        1. [Normalisation](#Normalisation)\n",
    "        2. [Standardisation](#Standardisation)\n",
    "5. [Choix des caractéristiques](#Choix-des-caractéristiques)\n",
    "6. [Fractionnement des données](#Fractionnement-des-données)\n",
    "7. [Différents modèles](#Différents-modèles)\n",
    "    1. [Régression](#Régression)\n",
    "        1. [Linéaire logistique](#Linéaire-logistique)\n",
    "        2. [Linéaire multiple](#Linéaire-multiple)\n",
    "        3. [Polynomiale](#Polynomiale)\n",
    "8. [Entraînement](#Entraînement)\n",
    "9. [Prédiction](#Prédiction)\n",
    "10. [Évaluation](#Évaluation)"
   ]
  },
  {
   "cell_type": "markdown",
   "id": "3dcb277b",
   "metadata": {},
   "source": [
    "# Bibliothèque"
   ]
  },
  {
   "cell_type": "markdown",
   "id": "36008427",
   "metadata": {},
   "source": [
    "Importation de la bibliothèque complète :"
   ]
  },
  {
   "cell_type": "code",
   "execution_count": 1,
   "id": "29962ee8",
   "metadata": {},
   "outputs": [],
   "source": [
    "import sklearn as skl"
   ]
  },
  {
   "cell_type": "markdown",
   "id": "deb645d7",
   "metadata": {},
   "source": [
    "Importation des modules utilisés dans ce jupyter :"
   ]
  },
  {
   "cell_type": "code",
   "execution_count": 2,
   "id": "cd7d4263",
   "metadata": {},
   "outputs": [],
   "source": [
    "from sklearn import datasets"
   ]
  },
  {
   "cell_type": "markdown",
   "id": "42b0534b",
   "metadata": {},
   "source": [
    "# Structure de données"
   ]
  },
  {
   "cell_type": "markdown",
   "id": "40267094",
   "metadata": {},
   "source": [
    "Scikit-Learn permet de travailler avec différents types de données provenant d'autres librairies, comme pandas, scipy ou encore numpy."
   ]
  },
  {
   "cell_type": "markdown",
   "id": "656348fa",
   "metadata": {},
   "source": [
    "Pour plus de détails concernant celles-ci, référez-vous aux notebooks correspondants ; dans le cadre de ce notebook, nous utiliserons le module ```datasets``` de Scikit-Learn afin de charger des données."
   ]
  },
  {
   "cell_type": "markdown",
   "id": "1dba425d",
   "metadata": {},
   "source": [
    "Les données retournées sont dans un format propre à Scikit-Learn, le type Bunch, qui contient les données séparées en features et en target(grâce au ```return_X_y=True```), que l'on charge sous forme de structure de données issues de pandas (grâce au ```as_frame=True```)."
   ]
  },
  {
   "cell_type": "code",
   "execution_count": 3,
   "id": "1c0efca1",
   "metadata": {},
   "outputs": [],
   "source": [
    "features, target = skl.datasets.load_diabetes(return_X_y=True, as_frame=True)"
   ]
  },
  {
   "cell_type": "markdown",
   "id": "bc515f56",
   "metadata": {},
   "source": [
    "On récupère alors les données dans un format propre à ```pandas``` (ici en DataFrame pour les features et en Serie pour la target)."
   ]
  },
  {
   "cell_type": "code",
   "execution_count": 4,
   "id": "a73ed208",
   "metadata": {},
   "outputs": [
    {
     "data": {
      "text/plain": [
       "pandas.core.frame.DataFrame"
      ]
     },
     "execution_count": 4,
     "metadata": {},
     "output_type": "execute_result"
    }
   ],
   "source": [
    "type(features)"
   ]
  },
  {
   "cell_type": "code",
   "execution_count": 5,
   "id": "a049a09d",
   "metadata": {},
   "outputs": [
    {
     "data": {
      "text/plain": [
       "pandas.core.series.Series"
      ]
     },
     "execution_count": 5,
     "metadata": {},
     "output_type": "execute_result"
    }
   ],
   "source": [
    "type(target)"
   ]
  },
  {
   "cell_type": "markdown",
   "id": "258b74ef",
   "metadata": {},
   "source": [
    "La plupart des valeurs retournées par les fonctions des modules de Scikit-Learn sont des ```array-like``` et peuvent donc être considérées comme des structures de données issues de ```numpy```. Il faut donc analyser à chaque  fois le type des valeurs retournées avec la fonction ```type``` ; ce travail sera laissé à la discrétion des lecteurs mais les choix syntaxiques seront détaillés."
   ]
  },
  {
   "cell_type": "markdown",
   "id": "010fdff9",
   "metadata": {},
   "source": [
    "# Validation des données"
   ]
  },
  {
   "cell_type": "markdown",
   "id": "a651d896",
   "metadata": {},
   "source": [
    "La première étape est de vérifier que toutes les données du dataset sont valides, c'est-à-dire qu'il ne manque pas de valeurs. Cela peut-être étudié dans un premier temps à l'aide de la fonctio ```info()``` de la bibliothèque pandas."
   ]
  },
  {
   "cell_type": "code",
   "execution_count": 6,
   "id": "cc1244c0",
   "metadata": {},
   "outputs": [
    {
     "name": "stdout",
     "output_type": "stream",
     "text": [
      "<class 'pandas.core.frame.DataFrame'>\n",
      "RangeIndex: 442 entries, 0 to 441\n",
      "Data columns (total 10 columns):\n",
      " #   Column  Non-Null Count  Dtype  \n",
      "---  ------  --------------  -----  \n",
      " 0   age     442 non-null    float64\n",
      " 1   sex     442 non-null    float64\n",
      " 2   bmi     442 non-null    float64\n",
      " 3   bp      442 non-null    float64\n",
      " 4   s1      442 non-null    float64\n",
      " 5   s2      442 non-null    float64\n",
      " 6   s3      442 non-null    float64\n",
      " 7   s4      442 non-null    float64\n",
      " 8   s5      442 non-null    float64\n",
      " 9   s6      442 non-null    float64\n",
      "dtypes: float64(10)\n",
      "memory usage: 34.7 KB\n"
     ]
    }
   ],
   "source": [
    "features.info()"
   ]
  },
  {
   "cell_type": "markdown",
   "id": "d8c9346e",
   "metadata": {},
   "source": [
    "La gestion de ces valeurs est à effectuer avec les fonctions de la bibliothèque ```pandas```, notamment ```fillna()``` pour remplacer les valeurs manquantes et ```dropna()``` pour ignorer les lignes correspondantes (pour plus de détails référez-vous au notebook associé)."
   ]
  },
  {
   "cell_type": "markdown",
   "id": "b2152370",
   "metadata": {},
   "source": [
    "## Encodage"
   ]
  },
  {
   "cell_type": "markdown",
   "id": "f8e89e0b",
   "metadata": {},
   "source": [
    "Afin de pouvoir construire un modèle mathématique, il est nécessaire de travailler avec des valeurs numériques. On peut alors utiliser le module ```preprocessing``` et plus particulièrement la classe ```LabelEncoder``` afin de transformer numériquement ces valeurs. Cela peut aussi être appliqué à des valeurs numériques catégorielles afin d'indexer ces valeurs."
   ]
  },
  {
   "cell_type": "code",
   "execution_count": 7,
   "id": "95ee457a",
   "metadata": {},
   "outputs": [],
   "source": [
    "from sklearn.preprocessing import LabelEncoder"
   ]
  },
  {
   "cell_type": "markdown",
   "id": "08163d64",
   "metadata": {},
   "source": [
    "On peut alors construire une fonction de transformation à l'aide de cette classe et l'appliquer à notre jeu de données en partie ou en entier à l'aide de la fonction ```fit_transform```. Afin de garder en mémoire ce changement, il est possible d'assigner le résultat de la fonction aux valeurs étudiées."
   ]
  },
  {
   "cell_type": "code",
   "execution_count": 8,
   "id": "a251d83f",
   "metadata": {},
   "outputs": [],
   "source": [
    "le = LabelEncoder()\n",
    "features.sex = le.fit_transform(features.sex)"
   ]
  },
  {
   "cell_type": "markdown",
   "id": "bbd81568",
   "metadata": {
    "raw_mimetype": "text/markdown"
   },
   "source": [
    "On remarque alors que les valeurs de la colonne ```sex``` ont été transformées en valeurs entières à la place de valeurs décimales. Comme nous avons modifié seulement une colonne et non le dataframe en entier, son type n'a pas changé :"
   ]
  },
  {
   "cell_type": "code",
   "execution_count": 9,
   "id": "b4a0f27b",
   "metadata": {},
   "outputs": [
    {
     "data": {
      "text/plain": [
       "pandas.core.frame.DataFrame"
      ]
     },
     "execution_count": 9,
     "metadata": {},
     "output_type": "execute_result"
    }
   ],
   "source": [
    "type(features)"
   ]
  },
  {
   "cell_type": "markdown",
   "id": "3edfdd52",
   "metadata": {},
   "source": [
    "## Mise à l'échelle"
   ]
  },
  {
   "cell_type": "markdown",
   "id": "d9ac5eee",
   "metadata": {},
   "source": [
    "Les datasets sont en général composés de différentes valeurs, parfois exprimées dans différentes unités et souvent de différents ordres de grandeur. Afin de pouvoir minimiser rapidement une fonction de coût et donc de trouver un modèle prédictif optimal, il est parfois nécessaire de prétraîter les caractéristiques du dataset, en normalisant les données puis en les standardisant."
   ]
  },
  {
   "cell_type": "markdown",
   "id": "88f6b178",
   "metadata": {},
   "source": [
    "Ces étapes ne sont pas indispensables pour tous les types de modèles mais sont nécessaires pour nombre d'entre eux. Ci-dessous vous pourrez trouver une liste non exhaustive d'algorithmes pour lesquels il faudra procéder à la mise à l'échelle des caractéristiques :\n",
    "* Régression Logistique\n",
    "* Régression Statistique (polynomiale, multiple…)\n",
    "* Machine à vecteurs de support (SVM)\n",
    "* Méthode des k plus proches voisins (KNN)\n",
    "* K-moyennes (clustering…)\n",
    "* Analyse en composantes principales (PCA)"
   ]
  },
  {
   "cell_type": "markdown",
   "id": "4e86e7ac",
   "metadata": {},
   "source": [
    "### Normalisation"
   ]
  },
  {
   "cell_type": "markdown",
   "id": "d0ad2407",
   "metadata": {},
   "source": [
    "Cette étape permet de ramener les caractéristiques dans un intervalle fixe [0, 1]. Cela permet de réduire l'espace de variance des valeurs d'une caractéristique et par conséquent réduire l'effet des cas particuliers."
   ]
  },
  {
   "cell_type": "markdown",
   "id": "aab30562",
   "metadata": {},
   "source": [
    "On réutilise alors le module ```preprocessing``` et plus particulièrement la classe ```MinMaxScaler``` afin de créer un convertisseur qui va permettre de transformer les valeurs suivant la formule suivante :\n",
    "$$\n",
    "X_{normalisé} = \\frac{X-X_{min}}{X_{max}-X_{min}}\n",
    "$$"
   ]
  },
  {
   "cell_type": "code",
   "execution_count": 10,
   "id": "c2962fe1",
   "metadata": {},
   "outputs": [
    {
     "data": {
      "text/html": [
       "<div>\n",
       "<style scoped>\n",
       "    .dataframe tbody tr th:only-of-type {\n",
       "        vertical-align: middle;\n",
       "    }\n",
       "\n",
       "    .dataframe tbody tr th {\n",
       "        vertical-align: top;\n",
       "    }\n",
       "\n",
       "    .dataframe thead th {\n",
       "        text-align: right;\n",
       "    }\n",
       "</style>\n",
       "<table border=\"1\" class=\"dataframe\">\n",
       "  <thead>\n",
       "    <tr style=\"text-align: right;\">\n",
       "      <th></th>\n",
       "      <th>age</th>\n",
       "      <th>sex</th>\n",
       "      <th>bmi</th>\n",
       "      <th>bp</th>\n",
       "      <th>s1</th>\n",
       "      <th>s2</th>\n",
       "      <th>s3</th>\n",
       "      <th>s4</th>\n",
       "      <th>s5</th>\n",
       "      <th>s6</th>\n",
       "    </tr>\n",
       "  </thead>\n",
       "  <tbody>\n",
       "    <tr>\n",
       "      <th>0</th>\n",
       "      <td>0.666667</td>\n",
       "      <td>1.0</td>\n",
       "      <td>0.582645</td>\n",
       "      <td>0.549296</td>\n",
       "      <td>0.294118</td>\n",
       "      <td>0.256972</td>\n",
       "      <td>0.207792</td>\n",
       "      <td>0.282087</td>\n",
       "      <td>0.562217</td>\n",
       "      <td>0.439394</td>\n",
       "    </tr>\n",
       "    <tr>\n",
       "      <th>1</th>\n",
       "      <td>0.483333</td>\n",
       "      <td>0.0</td>\n",
       "      <td>0.148760</td>\n",
       "      <td>0.352113</td>\n",
       "      <td>0.421569</td>\n",
       "      <td>0.306773</td>\n",
       "      <td>0.623377</td>\n",
       "      <td>0.141044</td>\n",
       "      <td>0.222443</td>\n",
       "      <td>0.166667</td>\n",
       "    </tr>\n",
       "    <tr>\n",
       "      <th>2</th>\n",
       "      <td>0.883333</td>\n",
       "      <td>1.0</td>\n",
       "      <td>0.516529</td>\n",
       "      <td>0.436620</td>\n",
       "      <td>0.289216</td>\n",
       "      <td>0.258964</td>\n",
       "      <td>0.246753</td>\n",
       "      <td>0.282087</td>\n",
       "      <td>0.496584</td>\n",
       "      <td>0.409091</td>\n",
       "    </tr>\n",
       "    <tr>\n",
       "      <th>3</th>\n",
       "      <td>0.083333</td>\n",
       "      <td>0.0</td>\n",
       "      <td>0.301653</td>\n",
       "      <td>0.309859</td>\n",
       "      <td>0.495098</td>\n",
       "      <td>0.447211</td>\n",
       "      <td>0.233766</td>\n",
       "      <td>0.423131</td>\n",
       "      <td>0.572936</td>\n",
       "      <td>0.469697</td>\n",
       "    </tr>\n",
       "    <tr>\n",
       "      <th>4</th>\n",
       "      <td>0.516667</td>\n",
       "      <td>0.0</td>\n",
       "      <td>0.206612</td>\n",
       "      <td>0.549296</td>\n",
       "      <td>0.465686</td>\n",
       "      <td>0.417331</td>\n",
       "      <td>0.389610</td>\n",
       "      <td>0.282087</td>\n",
       "      <td>0.362369</td>\n",
       "      <td>0.333333</td>\n",
       "    </tr>\n",
       "    <tr>\n",
       "      <th>...</th>\n",
       "      <td>...</td>\n",
       "      <td>...</td>\n",
       "      <td>...</td>\n",
       "      <td>...</td>\n",
       "      <td>...</td>\n",
       "      <td>...</td>\n",
       "      <td>...</td>\n",
       "      <td>...</td>\n",
       "      <td>...</td>\n",
       "      <td>...</td>\n",
       "    </tr>\n",
       "    <tr>\n",
       "      <th>437</th>\n",
       "      <td>0.683333</td>\n",
       "      <td>1.0</td>\n",
       "      <td>0.421488</td>\n",
       "      <td>0.704225</td>\n",
       "      <td>0.431373</td>\n",
       "      <td>0.359562</td>\n",
       "      <td>0.259740</td>\n",
       "      <td>0.282087</td>\n",
       "      <td>0.605670</td>\n",
       "      <td>0.530303</td>\n",
       "    </tr>\n",
       "    <tr>\n",
       "      <th>438</th>\n",
       "      <td>0.466667</td>\n",
       "      <td>1.0</td>\n",
       "      <td>0.285124</td>\n",
       "      <td>0.183099</td>\n",
       "      <td>0.627451</td>\n",
       "      <td>0.619522</td>\n",
       "      <td>0.259740</td>\n",
       "      <td>0.423131</td>\n",
       "      <td>0.415790</td>\n",
       "      <td>0.666667</td>\n",
       "    </tr>\n",
       "    <tr>\n",
       "      <th>439</th>\n",
       "      <td>0.683333</td>\n",
       "      <td>1.0</td>\n",
       "      <td>0.285124</td>\n",
       "      <td>0.530516</td>\n",
       "      <td>0.318627</td>\n",
       "      <td>0.323705</td>\n",
       "      <td>0.272727</td>\n",
       "      <td>0.249647</td>\n",
       "      <td>0.305040</td>\n",
       "      <td>0.560606</td>\n",
       "    </tr>\n",
       "    <tr>\n",
       "      <th>440</th>\n",
       "      <td>0.283333</td>\n",
       "      <td>0.0</td>\n",
       "      <td>0.495868</td>\n",
       "      <td>0.464789</td>\n",
       "      <td>0.509804</td>\n",
       "      <td>0.416335</td>\n",
       "      <td>0.259740</td>\n",
       "      <td>0.393512</td>\n",
       "      <td>0.657020</td>\n",
       "      <td>0.409091</td>\n",
       "    </tr>\n",
       "    <tr>\n",
       "      <th>441</th>\n",
       "      <td>0.283333</td>\n",
       "      <td>0.0</td>\n",
       "      <td>0.066116</td>\n",
       "      <td>0.126761</td>\n",
       "      <td>0.750000</td>\n",
       "      <td>0.456175</td>\n",
       "      <td>0.974026</td>\n",
       "      <td>0.141044</td>\n",
       "      <td>0.469308</td>\n",
       "      <td>0.515152</td>\n",
       "    </tr>\n",
       "  </tbody>\n",
       "</table>\n",
       "<p>442 rows × 10 columns</p>\n",
       "</div>"
      ],
      "text/plain": [
       "          age  sex       bmi        bp        s1        s2        s3  \\\n",
       "0    0.666667  1.0  0.582645  0.549296  0.294118  0.256972  0.207792   \n",
       "1    0.483333  0.0  0.148760  0.352113  0.421569  0.306773  0.623377   \n",
       "2    0.883333  1.0  0.516529  0.436620  0.289216  0.258964  0.246753   \n",
       "3    0.083333  0.0  0.301653  0.309859  0.495098  0.447211  0.233766   \n",
       "4    0.516667  0.0  0.206612  0.549296  0.465686  0.417331  0.389610   \n",
       "..        ...  ...       ...       ...       ...       ...       ...   \n",
       "437  0.683333  1.0  0.421488  0.704225  0.431373  0.359562  0.259740   \n",
       "438  0.466667  1.0  0.285124  0.183099  0.627451  0.619522  0.259740   \n",
       "439  0.683333  1.0  0.285124  0.530516  0.318627  0.323705  0.272727   \n",
       "440  0.283333  0.0  0.495868  0.464789  0.509804  0.416335  0.259740   \n",
       "441  0.283333  0.0  0.066116  0.126761  0.750000  0.456175  0.974026   \n",
       "\n",
       "           s4        s5        s6  \n",
       "0    0.282087  0.562217  0.439394  \n",
       "1    0.141044  0.222443  0.166667  \n",
       "2    0.282087  0.496584  0.409091  \n",
       "3    0.423131  0.572936  0.469697  \n",
       "4    0.282087  0.362369  0.333333  \n",
       "..        ...       ...       ...  \n",
       "437  0.282087  0.605670  0.530303  \n",
       "438  0.423131  0.415790  0.666667  \n",
       "439  0.249647  0.305040  0.560606  \n",
       "440  0.393512  0.657020  0.409091  \n",
       "441  0.141044  0.469308  0.515152  \n",
       "\n",
       "[442 rows x 10 columns]"
      ]
     },
     "execution_count": 10,
     "metadata": {},
     "output_type": "execute_result"
    }
   ],
   "source": [
    "from sklearn.preprocessing import MinMaxScaler\n",
    "\n",
    "minMaxScaler = MinMaxScaler()\n",
    "features[:] = minMaxScaler.fit_transform(features[:])\n",
    "features"
   ]
  },
  {
   "cell_type": "markdown",
   "id": "f82c4855",
   "metadata": {},
   "source": [
    "Toutes les valeurs des différentes colonnes du dataframe ont bien été normalisées et y ont été assignées. Afin de garder une structure de données issues de ```pandas```, lors de la transformation, les colonnes du dataframe ont été renseignées avec ```features[:]```. Si ce n'est pas la structure attendue, un simple ```features = minMaxScaler.fit_transform(features)``` retournera un ```numpy.ndarray```."
   ]
  },
  {
   "cell_type": "markdown",
   "id": "aeb28a8b",
   "metadata": {},
   "source": [
    "### Standardisation"
   ]
  },
  {
   "cell_type": "markdown",
   "id": "97a94f31",
   "metadata": {},
   "source": [
    "Cette étape est particulièrement intéressante quand les caractéristiques suivent une distribution gaussienne, mais peut aussi s'avérer utile quand cela n'est pas le cas (les différents cas peuvent être étudiés à l'aide d'un simple ```plot```)."
   ]
  },
  {
   "cell_type": "markdown",
   "id": "ba50959a",
   "metadata": {},
   "source": [
    "La standardisation permet de replacer la moyenne des valeurs à l'origine et deplacer les valeurs à une unité de l'origine (si l'écart-type est de 1). Cette transformation est implémentée dans le module ```preprocessing``` par la classe ```StandardScaler``` et suit la formule suivante :\n",
    "$$\n",
    "X_{standardisé}=\\frac{X-\\mu}{\\sigma}\n",
    "$$\n",
    "avec \n",
    "* $\\mu$ : la moyenne des observations de cette caractéristique\n",
    "* $\\sigma$ : l'écart-type des observations de cette caractéristique"
   ]
  },
  {
   "cell_type": "code",
   "execution_count": 11,
   "id": "3b61b25d",
   "metadata": {},
   "outputs": [
    {
     "data": {
      "text/html": [
       "<div>\n",
       "<style scoped>\n",
       "    .dataframe tbody tr th:only-of-type {\n",
       "        vertical-align: middle;\n",
       "    }\n",
       "\n",
       "    .dataframe tbody tr th {\n",
       "        vertical-align: top;\n",
       "    }\n",
       "\n",
       "    .dataframe thead th {\n",
       "        text-align: right;\n",
       "    }\n",
       "</style>\n",
       "<table border=\"1\" class=\"dataframe\">\n",
       "  <thead>\n",
       "    <tr style=\"text-align: right;\">\n",
       "      <th></th>\n",
       "      <th>age</th>\n",
       "      <th>sex</th>\n",
       "      <th>bmi</th>\n",
       "      <th>bp</th>\n",
       "      <th>s1</th>\n",
       "      <th>s2</th>\n",
       "      <th>s3</th>\n",
       "      <th>s4</th>\n",
       "      <th>s5</th>\n",
       "      <th>s6</th>\n",
       "    </tr>\n",
       "  </thead>\n",
       "  <tbody>\n",
       "    <tr>\n",
       "      <th>0</th>\n",
       "      <td>0.800500</td>\n",
       "      <td>1.065488</td>\n",
       "      <td>1.297088</td>\n",
       "      <td>0.459840</td>\n",
       "      <td>-0.929746</td>\n",
       "      <td>-0.732065</td>\n",
       "      <td>-0.912451</td>\n",
       "      <td>-0.054499</td>\n",
       "      <td>0.418551</td>\n",
       "      <td>-0.370989</td>\n",
       "    </tr>\n",
       "    <tr>\n",
       "      <th>1</th>\n",
       "      <td>-0.039567</td>\n",
       "      <td>-0.938537</td>\n",
       "      <td>-1.082180</td>\n",
       "      <td>-0.553511</td>\n",
       "      <td>-0.177624</td>\n",
       "      <td>-0.402886</td>\n",
       "      <td>1.564414</td>\n",
       "      <td>-0.830301</td>\n",
       "      <td>-1.436551</td>\n",
       "      <td>-1.938479</td>\n",
       "    </tr>\n",
       "    <tr>\n",
       "      <th>2</th>\n",
       "      <td>1.793307</td>\n",
       "      <td>1.065488</td>\n",
       "      <td>0.934533</td>\n",
       "      <td>-0.119218</td>\n",
       "      <td>-0.958674</td>\n",
       "      <td>-0.718897</td>\n",
       "      <td>-0.680245</td>\n",
       "      <td>-0.054499</td>\n",
       "      <td>0.060207</td>\n",
       "      <td>-0.545154</td>\n",
       "    </tr>\n",
       "    <tr>\n",
       "      <th>3</th>\n",
       "      <td>-1.872441</td>\n",
       "      <td>-0.938537</td>\n",
       "      <td>-0.243771</td>\n",
       "      <td>-0.770658</td>\n",
       "      <td>0.256292</td>\n",
       "      <td>0.525397</td>\n",
       "      <td>-0.757647</td>\n",
       "      <td>0.721302</td>\n",
       "      <td>0.477072</td>\n",
       "      <td>-0.196823</td>\n",
       "    </tr>\n",
       "    <tr>\n",
       "      <th>4</th>\n",
       "      <td>0.113172</td>\n",
       "      <td>-0.938537</td>\n",
       "      <td>-0.764944</td>\n",
       "      <td>0.459840</td>\n",
       "      <td>0.082726</td>\n",
       "      <td>0.327890</td>\n",
       "      <td>0.171178</td>\n",
       "      <td>-0.054499</td>\n",
       "      <td>-0.672582</td>\n",
       "      <td>-0.980568</td>\n",
       "    </tr>\n",
       "    <tr>\n",
       "      <th>...</th>\n",
       "      <td>...</td>\n",
       "      <td>...</td>\n",
       "      <td>...</td>\n",
       "      <td>...</td>\n",
       "      <td>...</td>\n",
       "      <td>...</td>\n",
       "      <td>...</td>\n",
       "      <td>...</td>\n",
       "      <td>...</td>\n",
       "      <td>...</td>\n",
       "    </tr>\n",
       "    <tr>\n",
       "      <th>437</th>\n",
       "      <td>0.876870</td>\n",
       "      <td>1.065488</td>\n",
       "      <td>0.413360</td>\n",
       "      <td>1.256044</td>\n",
       "      <td>-0.119769</td>\n",
       "      <td>-0.053957</td>\n",
       "      <td>-0.602843</td>\n",
       "      <td>-0.054499</td>\n",
       "      <td>0.655795</td>\n",
       "      <td>0.151508</td>\n",
       "    </tr>\n",
       "    <tr>\n",
       "      <th>438</th>\n",
       "      <td>-0.115937</td>\n",
       "      <td>1.065488</td>\n",
       "      <td>-0.334410</td>\n",
       "      <td>-1.422098</td>\n",
       "      <td>1.037341</td>\n",
       "      <td>1.664355</td>\n",
       "      <td>-0.602843</td>\n",
       "      <td>0.721302</td>\n",
       "      <td>-0.380915</td>\n",
       "      <td>0.935254</td>\n",
       "    </tr>\n",
       "    <tr>\n",
       "      <th>439</th>\n",
       "      <td>0.876870</td>\n",
       "      <td>1.065488</td>\n",
       "      <td>-0.334410</td>\n",
       "      <td>0.363330</td>\n",
       "      <td>-0.785107</td>\n",
       "      <td>-0.290965</td>\n",
       "      <td>-0.525441</td>\n",
       "      <td>-0.232934</td>\n",
       "      <td>-0.985585</td>\n",
       "      <td>0.325674</td>\n",
       "    </tr>\n",
       "    <tr>\n",
       "      <th>440</th>\n",
       "      <td>-0.956004</td>\n",
       "      <td>-0.938537</td>\n",
       "      <td>0.821235</td>\n",
       "      <td>0.025547</td>\n",
       "      <td>0.343075</td>\n",
       "      <td>0.321306</td>\n",
       "      <td>-0.602843</td>\n",
       "      <td>0.558384</td>\n",
       "      <td>0.936155</td>\n",
       "      <td>-0.545154</td>\n",
       "    </tr>\n",
       "    <tr>\n",
       "      <th>441</th>\n",
       "      <td>-0.956004</td>\n",
       "      <td>-0.938537</td>\n",
       "      <td>-1.535374</td>\n",
       "      <td>-1.711626</td>\n",
       "      <td>1.760535</td>\n",
       "      <td>0.584649</td>\n",
       "      <td>3.654268</td>\n",
       "      <td>-0.830301</td>\n",
       "      <td>-0.088717</td>\n",
       "      <td>0.064426</td>\n",
       "    </tr>\n",
       "  </tbody>\n",
       "</table>\n",
       "<p>442 rows × 10 columns</p>\n",
       "</div>"
      ],
      "text/plain": [
       "          age       sex       bmi        bp        s1        s2        s3  \\\n",
       "0    0.800500  1.065488  1.297088  0.459840 -0.929746 -0.732065 -0.912451   \n",
       "1   -0.039567 -0.938537 -1.082180 -0.553511 -0.177624 -0.402886  1.564414   \n",
       "2    1.793307  1.065488  0.934533 -0.119218 -0.958674 -0.718897 -0.680245   \n",
       "3   -1.872441 -0.938537 -0.243771 -0.770658  0.256292  0.525397 -0.757647   \n",
       "4    0.113172 -0.938537 -0.764944  0.459840  0.082726  0.327890  0.171178   \n",
       "..        ...       ...       ...       ...       ...       ...       ...   \n",
       "437  0.876870  1.065488  0.413360  1.256044 -0.119769 -0.053957 -0.602843   \n",
       "438 -0.115937  1.065488 -0.334410 -1.422098  1.037341  1.664355 -0.602843   \n",
       "439  0.876870  1.065488 -0.334410  0.363330 -0.785107 -0.290965 -0.525441   \n",
       "440 -0.956004 -0.938537  0.821235  0.025547  0.343075  0.321306 -0.602843   \n",
       "441 -0.956004 -0.938537 -1.535374 -1.711626  1.760535  0.584649  3.654268   \n",
       "\n",
       "           s4        s5        s6  \n",
       "0   -0.054499  0.418551 -0.370989  \n",
       "1   -0.830301 -1.436551 -1.938479  \n",
       "2   -0.054499  0.060207 -0.545154  \n",
       "3    0.721302  0.477072 -0.196823  \n",
       "4   -0.054499 -0.672582 -0.980568  \n",
       "..        ...       ...       ...  \n",
       "437 -0.054499  0.655795  0.151508  \n",
       "438  0.721302 -0.380915  0.935254  \n",
       "439 -0.232934 -0.985585  0.325674  \n",
       "440  0.558384  0.936155 -0.545154  \n",
       "441 -0.830301 -0.088717  0.064426  \n",
       "\n",
       "[442 rows x 10 columns]"
      ]
     },
     "execution_count": 11,
     "metadata": {},
     "output_type": "execute_result"
    }
   ],
   "source": [
    "from sklearn.preprocessing import StandardScaler\n",
    "\n",
    "standardScaler = StandardScaler()\n",
    "features[:] = standardScaler.fit_transform(features[:])\n",
    "features"
   ]
  },
  {
   "cell_type": "markdown",
   "id": "c7262490",
   "metadata": {},
   "source": [
    "Toutes les valeurs des différentes colonnes du dataframe ont bien été standardisées et y ont été assignées. Afin de garder une structure de données issues de ```pandas```, lors de la transformation, les colonnes du dataframe ont été renseignées avec ```features[:]```. Si ce n'est pas la structure attendue, un simple ```features = standardScaler.fit_transform(features)``` retournera un ```numpy.ndarray```."
   ]
  },
  {
   "cell_type": "markdown",
   "id": "ecf4bd86",
   "metadata": {},
   "source": [
    "# Choix des caractéristiques"
   ]
  },
  {
   "cell_type": "markdown",
   "id": "7e3990ff",
   "metadata": {},
   "source": [
    "Pour réaliser un modèle prédictif, il faut sélectionner les caractéristiques qui influencent le plus les résultats et qui permettront ainsi de pouvoir prédire de futures valeurs. Cette étape peut être réalisée avec les fonction ```corrwith()``` de pandas et ```corrcoef()``` de numpy."
   ]
  },
  {
   "cell_type": "code",
   "execution_count": 25,
   "id": "2f87f332",
   "metadata": {},
   "outputs": [
    {
     "name": "stdout",
     "output_type": "stream",
     "text": [
      "age    0.187889\n",
      "sex    0.043062\n",
      "bmi    0.586450\n",
      "bp     0.441484\n",
      "s1     0.212022\n",
      "s2     0.174054\n",
      "s3    -0.394789\n",
      "s4     0.430453\n",
      "s5     0.565883\n",
      "s6     0.382483\n",
      "dtype: float64\n"
     ]
    },
    {
     "data": {
      "text/plain": [
       "array([ 0.18788875,  0.043062  ,  0.58645013,  0.44148385,  0.21202248,\n",
       "        0.17405359, -0.39478925,  0.43045288,  0.56588343,  0.38248348,\n",
       "        1.        ])"
      ]
     },
     "execution_count": 25,
     "metadata": {},
     "output_type": "execute_result"
    }
   ],
   "source": [
    "import numpy as np\n",
    "\n",
    "print(features.corrwith(target))\n",
    "np.corrcoef(features, y=target, rowvar=False)[-1]"
   ]
  },
  {
   "cell_type": "markdown",
   "id": "78b5d277",
   "metadata": {},
   "source": [
    "Ces deux syntaxes permettent de donner les coefficients de corrélation entre les caractéristiques et la cible, mais différent de part l'utilisation de différentes bibliothèques : ```corrwith()``` s'applique au dataframe des caractéristiques et selon le paramètre qu'est la cible ; ```coorcoef```permet de donner la matrice de corrélation entre les features, il faut donc indiquer ```y=target``` afin d'intégrer cette colonne au calcul et on récupère les coefficients entre ces valeurs et les caractéristiques en prenant la dernière valeur du tableau avec ```[-1]```."
   ]
  },
  {
   "cell_type": "markdown",
   "id": "300ec8bc",
   "metadata": {},
   "source": [
    "# Fractionnement des données"
   ]
  },
  {
   "cell_type": "markdown",
   "id": "de250777",
   "metadata": {},
   "source": []
  },
  {
   "cell_type": "markdown",
   "id": "6dcdaf7c",
   "metadata": {},
   "source": [
    "# Différents modèles"
   ]
  },
  {
   "cell_type": "markdown",
   "id": "127951ae",
   "metadata": {},
   "source": []
  },
  {
   "cell_type": "markdown",
   "id": "dec90b38",
   "metadata": {},
   "source": [
    "## Régression"
   ]
  },
  {
   "cell_type": "markdown",
   "id": "6484e799",
   "metadata": {},
   "source": []
  },
  {
   "cell_type": "markdown",
   "id": "4b3a9816",
   "metadata": {},
   "source": [
    "### Linéaire logistique"
   ]
  },
  {
   "cell_type": "markdown",
   "id": "f2e9dead",
   "metadata": {},
   "source": []
  },
  {
   "cell_type": "markdown",
   "id": "fa5cc770",
   "metadata": {},
   "source": [
    "### Linéaire multiple"
   ]
  },
  {
   "cell_type": "markdown",
   "id": "930a9c9f",
   "metadata": {},
   "source": []
  },
  {
   "cell_type": "markdown",
   "id": "aa5e89f2",
   "metadata": {},
   "source": [
    "### Polynomiale"
   ]
  },
  {
   "cell_type": "markdown",
   "id": "95b7583f",
   "metadata": {},
   "source": []
  },
  {
   "cell_type": "markdown",
   "id": "684efd13",
   "metadata": {},
   "source": [
    "## Entraînement"
   ]
  },
  {
   "cell_type": "markdown",
   "id": "56d21323",
   "metadata": {},
   "source": []
  },
  {
   "cell_type": "markdown",
   "id": "111e5d23",
   "metadata": {},
   "source": [
    "## Prédiction"
   ]
  },
  {
   "cell_type": "markdown",
   "id": "195313e9",
   "metadata": {},
   "source": []
  },
  {
   "cell_type": "markdown",
   "id": "997517d1",
   "metadata": {},
   "source": [
    "## Évaluation"
   ]
  },
  {
   "cell_type": "markdown",
   "id": "e734caa9",
   "metadata": {},
   "source": []
  },
  {
   "cell_type": "markdown",
   "id": "1da894a8",
   "metadata": {},
   "source": [
    "# Sources"
   ]
  },
  {
   "cell_type": "markdown",
   "id": "b7644c1a",
   "metadata": {},
   "source": [
    "* https://scikit-learn.org/stable/user_guide.html\n",
    "* https://pandas.pydata.org/docs/user_guide/index.html\n",
    "* https://mrmint.fr/data-preprocessing-feature-scaling-python"
   ]
  }
 ],
 "metadata": {
  "celltoolbar": "Format de la Cellule Texte Brut",
  "kernelspec": {
   "display_name": "Python 3 (ipykernel)",
   "language": "python",
   "name": "python3"
  },
  "language_info": {
   "codemirror_mode": {
    "name": "ipython",
    "version": 3
   },
   "file_extension": ".py",
   "mimetype": "text/x-python",
   "name": "python",
   "nbconvert_exporter": "python",
   "pygments_lexer": "ipython3",
   "version": "3.9.7"
  }
 },
 "nbformat": 4,
 "nbformat_minor": 5
}
