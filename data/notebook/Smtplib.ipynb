{
 "cells": [
  {
   "cell_type": "markdown",
   "id": "56a0a984",
   "metadata": {},
   "source": [
    "# Smtplib : une librairie python pour envoyer des mails"
   ]
  },
  {
   "cell_type": "code",
   "execution_count": 8,
   "id": "9ae1965a",
   "metadata": {},
   "outputs": [],
   "source": [
    "from email.mime.text import MIMEText\n",
    "from email.mime.image import MIMEImage\n",
    "from email.mime.application import MIMEApplication\n",
    "from email.mime.multipart import MIMEMultipart\n",
    "import smtplib\n",
    "import os"
   ]
  },
  {
   "cell_type": "markdown",
   "id": "f4725219",
   "metadata": {},
   "source": [
    "# Gmail"
   ]
  },
  {
   "cell_type": "markdown",
   "id": "b1586fbf",
   "metadata": {},
   "source": [
    "<a href=\"https://myaccount.google.com/u/1/lesssecureapps\">Paramétrer le compte pour accepter l'accès du programme</a>"
   ]
  },
  {
   "cell_type": "markdown",
   "id": "2629a345",
   "metadata": {},
   "source": [
    "# Connexion au compte Gmail"
   ]
  },
  {
   "cell_type": "code",
   "execution_count": null,
   "id": "bd4e7a1a",
   "metadata": {},
   "outputs": [],
   "source": [
    "smtp = smtplib.SMTP('smtp.gmail.com', 587) # Configurer l'envoie via un compte Gmail"
   ]
  },
  {
   "cell_type": "markdown",
   "id": "d05026a4",
   "metadata": {},
   "source": [
    "# Connexion à un compte Outlook"
   ]
  },
  {
   "cell_type": "code",
   "execution_count": null,
   "id": "d92a49ab",
   "metadata": {},
   "outputs": [],
   "source": [
    "#smtp = smtplib.SMTP('smtp.office365.com', 587) # Configurer l'envoie via un compte Outlook"
   ]
  },
  {
   "cell_type": "markdown",
   "id": "2931479f",
   "metadata": {},
   "source": [
    "# Configuration du serveur"
   ]
  },
  {
   "cell_type": "code",
   "execution_count": null,
   "id": "824efca1",
   "metadata": {},
   "outputs": [],
   "source": [
    "smtp.ehlo() # Permet de s'identifier sur un serveur ESMTP \n",
    "smtp.starttls() # Permet de crypter la connexion avec le protocole TLS (Transport Layer Security)\n",
    "smtp.login('*********@gmail.com', '************')"
   ]
  },
  {
   "cell_type": "markdown",
   "id": "cce168d2",
   "metadata": {},
   "source": [
    "# Création du corps du message"
   ]
  },
  {
   "cell_type": "code",
   "execution_count": 14,
   "id": "90a1c31e",
   "metadata": {},
   "outputs": [],
   "source": [
    "msg = MIMEMultipart() # Permet de configurer un message composé de plusieurs types de données\n",
    "msg['Subject'] = \"Test Smtplib\" # Description de l'objet du message\n",
    "text = \"Bonjour Test 1\" # Contenu du message\n",
    "msg.attach(MIMEText(text)) # Attache le texte "
   ]
  },
  {
   "cell_type": "markdown",
   "id": "395fc8e4",
   "metadata": {},
   "source": [
    "# Attacher une image"
   ]
  },
  {
   "cell_type": "code",
   "execution_count": 20,
   "id": "1ea2e31e",
   "metadata": {},
   "outputs": [],
   "source": [
    "img_data = open(\"C:/Users/utilisateur/Pictures/By Ecodair.png\", 'rb').read()\n",
    "msg.attach(MIMEImage(img_data, \n",
    "                     name=os.path.basename(\"C:/Users/utilisateur/Pictures/By Ecodair.png\"))) # Attache l'image au message"
   ]
  },
  {
   "cell_type": "markdown",
   "id": "9f46a3e5",
   "metadata": {},
   "source": [
    "# Attacher plusieurs images"
   ]
  },
  {
   "cell_type": "code",
   "execution_count": 21,
   "id": "7c5df7d0",
   "metadata": {},
   "outputs": [],
   "source": [
    "#with open(one_attachment, 'rb') as f:\n",
    "#    file = MIMEApplication(\n",
    "#        f.read(), name=os.path.basename(one_attachment)\n",
    "#    )\n",
    "#    file['Content-Disposition'] = f'attachment; \\\n",
    "#    filename=\"{os.path.basename(one_attachment)}\"'\n",
    "#    msg.attach(file)"
   ]
  },
  {
   "cell_type": "markdown",
   "id": "5f94474e",
   "metadata": {},
   "source": [
    "# Envoyer le message"
   ]
  },
  {
   "cell_type": "code",
   "execution_count": 22,
   "id": "a9ef5f00",
   "metadata": {},
   "outputs": [
    {
     "data": {
      "text/plain": [
       "(221, b'2.0.0 closing connection n15sm1614319wri.80 - gsmtp')"
      ]
     },
     "execution_count": 22,
     "metadata": {},
     "output_type": "execute_result"
    }
   ],
   "source": [
    "to = [\"*********@*******.***\"] # Désigne l'ensemble des destinataires\n",
    "smtp.sendmail(from_addr=\"Your Login Email\",\n",
    "              to_addrs=to, msg=msg.as_string()) # Permet d'envoyer le message aux destinataires\n",
    "smtp.quit() # Ferme la connexion "
   ]
  },
  {
   "cell_type": "markdown",
   "id": "470718af",
   "metadata": {},
   "source": [
    "# Sources"
   ]
  },
  {
   "cell_type": "markdown",
   "id": "e789298b",
   "metadata": {},
   "source": [
    " - https://www.geeksforgeeks.org/how-to-send-automated-email-messages-in-python/"
   ]
  }
 ],
 "metadata": {
  "kernelspec": {
   "display_name": "Python 3 (ipykernel)",
   "language": "python",
   "name": "python3"
  },
  "language_info": {
   "codemirror_mode": {
    "name": "ipython",
    "version": 3
   },
   "file_extension": ".py",
   "mimetype": "text/x-python",
   "name": "python",
   "nbconvert_exporter": "python",
   "pygments_lexer": "ipython3",
   "version": "3.9.7"
  }
 },
 "nbformat": 4,
 "nbformat_minor": 5
}
